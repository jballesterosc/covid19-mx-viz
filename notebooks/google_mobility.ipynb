{
 "cells": [
  {
   "cell_type": "code",
   "execution_count": 1,
   "metadata": {},
   "outputs": [],
   "source": [
    "import pandas as pd\n",
    "import numpy as np\n",
    "import matplotlib.pyplot as plt\n",
    "import warnings\n",
    "plt.style.use('seaborn-poster')\n",
    "%matplotlib qt"
   ]
  },
  {
   "cell_type": "code",
   "execution_count": 2,
   "metadata": {},
   "outputs": [],
   "source": [
    "warnings.filterwarnings('ignore')\n",
    "\n",
    "gmr_df = pd.read_csv ('https://www.gstatic.com/covid19/mobility/Global_Mobility_Report.csv')"
   ]
  },
  {
   "cell_type": "code",
   "execution_count": 3,
   "metadata": {},
   "outputs": [
    {
     "data": {
      "text/plain": [
       "['retail_and_recreation_percent_change_from_baseline',\n",
       " 'grocery_and_pharmacy_percent_change_from_baseline',\n",
       " 'parks_percent_change_from_baseline',\n",
       " 'transit_stations_percent_change_from_baseline',\n",
       " 'workplaces_percent_change_from_baseline',\n",
       " 'residential_percent_change_from_baseline']"
      ]
     },
     "execution_count": 3,
     "metadata": {},
     "output_type": "execute_result"
    }
   ],
   "source": [
    "# Categorías disponibles en el reporte de Mobilidad de Google.\n",
    "categories_google_mobility = ['retail_and_recreation_percent_change_from_baseline',\n",
    " 'grocery_and_pharmacy_percent_change_from_baseline',\n",
    " 'parks_percent_change_from_baseline',\n",
    " 'transit_stations_percent_change_from_baseline',\n",
    " 'workplaces_percent_change_from_baseline',\n",
    " 'residential_percent_change_from_baseline']\n",
    "categories_google_mobility"
   ]
  },
  {
   "cell_type": "code",
   "execution_count": 4,
   "metadata": {},
   "outputs": [
    {
     "name": "stdout",
     "output_type": "stream",
     "text": [
      "retail_and_recreation_percent_change_from_baseline\n",
      "grocery_and_pharmacy_percent_change_from_baseline\n",
      "parks_percent_change_from_baseline\n",
      "transit_stations_percent_change_from_baseline\n",
      "workplaces_percent_change_from_baseline\n",
      "residential_percent_change_from_baseline\n"
     ]
    }
   ],
   "source": [
    "# Selecciona el país y la región.\n",
    "country = 'Mexico'\n",
    "region = 'Colima'\n",
    "sub_df = gmr_df[(gmr_df['country_region']== country) & (gmr_df['sub_region_1']==region)]\n",
    "sub_df.loc[:,'date'] = pd.to_datetime(sub_df.loc[:,'date'])\n",
    "sub_df = sub_df.sort_values('date', ascending=True)\n",
    " \n",
    "# Con esto puedes comenzar  a visualizar las series de tiempo del reporte de Google\n",
    "n = len(categories_google_mobility)\n",
    "fig, axes = plt.subplots(n, 1, figsize=(16, 4 * n))\n",
    "\n",
    "for group, ax in zip(categories_google_mobility, axes):\n",
    "    print(group)\n",
    "    ax.plot(sub_df['date'], sub_df[group], label=group)\n",
    "    #La siguiente línea, dibuja una línea horizontal con el valor base (0).\n",
    "    ax.axhline(y=0, color='gray')\n",
    "    #Las siguientes dos líneas de código (ax.axvline) son contextuales. En este caso, la primera marcará una línea vertical color rojo en el 18 de marzo; corresponde a la Declaratoria de Emergencia en el estado de Colima. La segunda, con fecha del primero de junio, alude al inicio de la Nueva Normalidad en el país. \n",
    "    ax.axvline(pd.to_datetime('2020-03-18'), color='r', linestyle='--', lw=2)\n",
    "    ax.axvline(pd.to_datetime('2020-06-01'), color='g', linestyle='--', lw=2)\n",
    "    ax.set_title(country + ' '+ region + ': ' + group)\n",
    "    ax.grid(True)\n",
    "    \n",
    "fig.tight_layout()\n",
    "fig.savefig(\"ggl_mobility_plot.png\")"
   ]
  },
  {
   "cell_type": "code",
   "execution_count": null,
   "metadata": {},
   "outputs": [],
   "source": []
  },
  {
   "cell_type": "code",
   "execution_count": null,
   "metadata": {},
   "outputs": [],
   "source": []
  },
  {
   "cell_type": "code",
   "execution_count": null,
   "metadata": {},
   "outputs": [],
   "source": []
  }
 ],
 "metadata": {
  "kernelspec": {
   "display_name": "Python 3",
   "language": "python",
   "name": "python3"
  },
  "language_info": {
   "codemirror_mode": {
    "name": "ipython",
    "version": 3
   },
   "file_extension": ".py",
   "mimetype": "text/x-python",
   "name": "python",
   "nbconvert_exporter": "python",
   "pygments_lexer": "ipython3",
   "version": "3.8.3"
  }
 },
 "nbformat": 4,
 "nbformat_minor": 4
}
